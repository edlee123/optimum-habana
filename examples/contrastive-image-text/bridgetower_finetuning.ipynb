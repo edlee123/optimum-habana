{
 "cells": [
  {
   "cell_type": "markdown",
   "id": "ba5f62e9",
   "metadata": {},
   "source": [
    "\n",
    "Copyright 2022 The HuggingFace Team. All rights reserved.\n",
    "\n",
    "Licensed under the Apache License, Version 2.0 (the \"License\");\n",
    "you may not use this file except in compliance with the License.\n",
    "You may obtain a copy of the License at\n",
    "\n",
    "    http://www.apache.org/licenses/LICENSE-2.0\n",
    "\n",
    "Unless required by applicable law or agreed to in writing, software\n",
    "distributed under the License is distributed on an \"AS IS\" BASIS,\n",
    "WITHOUT WARRANTIES OR CONDITIONS OF ANY KIND, either express or implied.\n",
    "See the License for the specific language governing permissions and\n",
    "limitations under the License.\n",
    "\n"
   ]
  },
  {
   "cell_type": "markdown",
   "id": "b412e09c-a11a-488b-9d25-61ee1a6480a8",
   "metadata": {},
   "source": [
    "\n",
    "# Bridgetower Finetuning\n"
   ]
  },
  {
   "cell_type": "markdown",
   "id": "29630bc4",
   "metadata": {},
   "source": [
    "Blog: \n",
    "https://huggingface.co/blog/bridgetower\n",
    "\n",
    "Last tested with framework versions:\n",
    "* Gaudi 1.17.0.495\n",
    "* Pytorch 2.3.1a0+git4989238\n",
    "* Transformers 4.43.4\n",
    "* Datasets 3.0.1\n",
    "* Tokenizers 0.19.1\n",
    "* optimum-habana 1.13.2\n"
   ]
  },
  {
   "cell_type": "markdown",
   "id": "90c15360",
   "metadata": {},
   "source": [
    "<!---\n",
    "Copyright 2022 The HuggingFace Team. All rights reserved.\n",
    "\n",
    "Licensed under the Apache License, Version 2.0 (the \"License\");\n",
    "you may not use this file except in compliance with the License.\n",
    "You may obtain a copy of the License at\n",
    "\n",
    "    http://www.apache.org/licenses/LICENSE-2.0\n",
    "\n",
    "Unless required by applicable law or agreed to in writing, software\n",
    "distributed under the License is distributed on an \"AS IS\" BASIS,\n",
    "WITHOUT WARRANTIES OR CONDITIONS OF ANY KIND, either express or implied.\n",
    "See the License for the specific language governing permissions and\n",
    "limitations under the License.\n",
    "-->"
   ]
  },
  {
   "cell_type": "code",
   "execution_count": null,
   "id": "2eb2415d-40e7-40ac-a45e-545d604da757",
   "metadata": {},
   "outputs": [],
   "source": [
    "!huggingface-cli login --token \"my_huggingface_token\""
   ]
  },
  {
   "cell_type": "markdown",
   "id": "2e5d4317",
   "metadata": {},
   "source": [
    "\n",
    "To allow fine tuning with the newyorker_caption_contest dataset included --trust_remote_code=True in below."
   ]
  },
  {
   "cell_type": "code",
   "execution_count": null,
   "id": "429d87d4-2903-4b55-889c-45f89adb940c",
   "metadata": {},
   "outputs": [],
   "source": [
    "%%bash\n",
    "python ../gaudi_spawn.py --world_size 1 run_bridgetower.py \\\n",
    "--trust_remote_code=True \\\n",
    "--output_dir /tmp/bridgetower-test \\\n",
    "--model_name_or_path BridgeTower/bridgetower-large-itm-mlm-itc \\\n",
    "--dataset_name jmhessel/newyorker_caption_contest --dataset_config_name matching \\\n",
    "--dataset_revision 3c6c4f6c0ff7e902833d3afa5f8f3875c2b036e6 \\\n",
    "--image_column image --caption_column image_description \\\n",
    "--remove_unused_columns=False \\\n",
    "--do_train --do_eval --do_predict \\\n",
    "--per_device_train_batch_size=\"40\" --per_device_eval_batch_size=\"16\" \\\n",
    "--num_train_epochs 5 \\\n",
    "--learning_rate=\"1e-5\" \\\n",
    "--push_to_hub --report_to tensorboard --hub_model_id bridgetower \\\n",
    "--overwrite_output_dir \\\n",
    "--use_habana --use_lazy_mode --use_hpu_graphs_for_inference --gaudi_config_name Habana/clip \\\n",
    "--throughput_warmup_steps 3 \\\n",
    "--logging_steps 10\n"
   ]
  },
  {
   "cell_type": "markdown",
   "id": "25afad5f",
   "metadata": {},
   "source": [
    "Please open your hugging face space:\n",
    "https://huggingface.co/<hf_username>/bridgetower\n",
    "\n",
    "Can see tensorboard results \"Training metrics\" tab."
   ]
  }
 ],
 "metadata": {
  "kernelspec": {
   "display_name": "Python 3 (ipykernel)",
   "language": "python",
   "name": "python3"
  },
  "language_info": {
   "codemirror_mode": {
    "name": "ipython",
    "version": 3
   },
   "file_extension": ".py",
   "mimetype": "text/x-python",
   "name": "python",
   "nbconvert_exporter": "python",
   "pygments_lexer": "ipython3",
   "version": "3.10.12"
  }
 },
 "nbformat": 4,
 "nbformat_minor": 5
}
